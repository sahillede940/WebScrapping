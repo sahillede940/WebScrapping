{
 "cells": [
  {
   "cell_type": "code",
   "execution_count": null,
   "metadata": {},
   "outputs": [],
   "source": [
    "import pandas as pd\n",
    "\n",
    "# # Load your Reddit posts\n",
    "# data = pd.read_csv('reddit_posts.csv')  # Adjust the filename as needed\n",
    "\n",
    "# # Ensure the text column is named appropriately\n",
    "# posts = data['post_text'].tolist()\n",
    "\n",
    "from peewee import *\n",
    "import os\n",
    "from dotenv import load_dotenv\n",
    "load_dotenv()"
   ]
  },
  {
   "cell_type": "code",
   "execution_count": null,
   "metadata": {},
   "outputs": [],
   "source": [
    "db = SqliteDatabase(os.getenv('DB_URL'))\n",
    "\n",
    "class Posts(Model):\n",
    "    title = CharField()\n",
    "    description = TextField()\n",
    "    url = CharField()\n",
    "\n",
    "    class Meta:\n",
    "        database = db"
   ]
  },
  {
   "cell_type": "code",
   "execution_count": null,
   "metadata": {},
   "outputs": [],
   "source": [
    "db.connect()\n",
    "\n",
    "data = Posts.select()\n",
    "posts = [post.description for post in data]\n",
    "db.close()"
   ]
  },
  {
   "cell_type": "code",
   "execution_count": null,
   "metadata": {},
   "outputs": [],
   "source": [
    "from sentence_transformers import SentenceTransformer\n",
    "\n",
    "# Choose a model\n",
    "model = SentenceTransformer('all-MiniLM-L6-v2')  # Or 'all-mpnet-base-v2' for slightly better performance\n"
   ]
  },
  {
   "cell_type": "code",
   "execution_count": null,
   "metadata": {},
   "outputs": [],
   "source": [
    "topic_description = \"Shipping carriers, logistics, delivery services, postal services, FedEx, UPS, DHL, tracking, shipping issues, package delivery\"\n"
   ]
  },
  {
   "cell_type": "code",
   "execution_count": null,
   "metadata": {},
   "outputs": [],
   "source": [
    "topic_embedding = model.encode(topic_description, convert_to_tensor=True)\n"
   ]
  },
  {
   "cell_type": "code",
   "execution_count": null,
   "metadata": {},
   "outputs": [],
   "source": [
    "import torch\n",
    "from torch.utils.data import DataLoader\n",
    "\n",
    "# Define a simple dataset class\n",
    "class PostsDataset(torch.utils.data.Dataset):\n",
    "    def __init__(self, posts):\n",
    "        self.posts = posts\n",
    "\n",
    "    def __len__(self):\n",
    "        return len(self.posts)\n",
    "\n",
    "    def __getitem__(self, idx):\n",
    "        return self.posts[idx]\n",
    "\n",
    "dataset = PostsDataset(posts)\n",
    "dataloader = DataLoader(dataset, batch_size=64)  # Adjust batch size based on your memory capacity\n"
   ]
  },
  {
   "cell_type": "code",
   "execution_count": null,
   "metadata": {},
   "outputs": [],
   "source": [
    "post_embeddings = []\n",
    "\n",
    "with torch.no_grad():\n",
    "    for batch in dataloader:\n",
    "        embeddings = model.encode(batch, convert_to_tensor=True)\n",
    "        post_embeddings.append(embeddings)\n",
    "\n",
    "# Concatenate all embeddings\n",
    "post_embeddings = torch.cat(post_embeddings)\n"
   ]
  },
  {
   "cell_type": "code",
   "execution_count": null,
   "metadata": {},
   "outputs": [],
   "source": [
    "from sentence_transformers.util import cos_sim\n",
    "\n",
    "# Compute similarities\n",
    "similarities = cos_sim(post_embeddings, topic_embedding)\n",
    "\n",
    "# Convert similarities to a 1D list\n",
    "similarity_scores = similarities.squeeze().tolist()\n"
   ]
  },
  {
   "cell_type": "code",
   "execution_count": null,
   "metadata": {},
   "outputs": [],
   "source": [
    "# Set a similarity threshold\n",
    "threshold = 0.5  # Adjust based on desired precision and recall\n",
    "\n",
    "# Identify relevant posts\n",
    "relevant_indices = [i for i, score in enumerate(similarity_scores) if score >= threshold]\n",
    "relevant_posts = [posts[i] for i in relevant_indices]\n",
    "\n",
    "# Optionally, add the scores to your DataFrame\n",
    "data['similarity_score'] = similarity_scores\n",
    "data['is_relevant'] = data['similarity_score'] >= threshold\n",
    "\n",
    "# Save the filtered posts\n",
    "filtered_data = data[data['is_relevant']]\n",
    "filtered_data.to_csv('filtered_reddit_posts.csv', index=False)\n"
   ]
  }
 ],
 "metadata": {
  "kernelspec": {
   "display_name": "venv",
   "language": "python",
   "name": "python3"
  },
  "language_info": {
   "name": "python",
   "version": "3.11.9"
  }
 },
 "nbformat": 4,
 "nbformat_minor": 2
}
